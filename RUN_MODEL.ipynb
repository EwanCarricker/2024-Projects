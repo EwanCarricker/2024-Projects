{
 "cells": [
  {
   "cell_type": "code",
   "execution_count": 19,
   "id": "011ad275-8ba5-4119-b741-25232d98b4ec",
   "metadata": {},
   "outputs": [
    {
     "name": "stdout",
     "output_type": "stream",
     "text": [
      "Cold Teams Cover Dome @ 0.56%\n",
      "Dome Teams Cover Cold @ 0.44%\n",
      "Cold Teams Cover Hot @ 0.58%\n",
      "Hot Teams Cover Cold @ 0.42%\n"
     ]
    },
    {
     "name": "stderr",
     "output_type": "stream",
     "text": [
      "IOPub data rate exceeded.\n",
      "The Jupyter server will temporarily stop sending output\n",
      "to the client in order to avoid crashing it.\n",
      "To change this limit, set the config variable\n",
      "`--ServerApp.iopub_data_rate_limit`.\n",
      "\n",
      "Current values:\n",
      "ServerApp.iopub_data_rate_limit=1000000.0 (bytes/sec)\n",
      "ServerApp.rate_limit_window=3.0 (secs)\n",
      "\n"
     ]
    }
   ],
   "source": [
    "# Imports\n",
    "\n",
    "import pandas as pd\n",
    "import scipy.stats as stats\n",
    "from datetime import datetime, timedelta\n",
    "from scipy.stats import binom\n",
    "import numpy as np\n",
    "import matplotlib.pyplot as plt\n",
    "from math import radians, sin, cos, sqrt, atan2\n",
    "import statsmodels.api as sm\n",
    "import importlib\n",
    "from itertools import product\n",
    "import warnings\n",
    "warnings.simplefilter(action='ignore', category=pd.errors.SettingWithCopyWarning)\n",
    "\n",
    "# Import from previous file\n",
    "import future_fixtures\n",
    "importlib.reload(future_fixtures)\n",
    "from future_fixtures import df_final"
   ]
  },
  {
   "cell_type": "code",
   "execution_count": 23,
   "id": "ba0f096a-af49-4048-bb62-24ac3fc67886",
   "metadata": {},
   "outputs": [
    {
     "name": "stdout",
     "output_type": "stream",
     "text": [
      "                Home Team             Away Team  Home Cover %  Away Cover %  \\\n",
      "4           New York Jets      Seattle Seahawks          44.9          54.8   \n",
      "10       Baltimore Ravens   Philadelphia Eagles          47.7          51.9   \n",
      "5   Washington Commanders      Tennessee Titans          48.0          51.1   \n",
      "6      Cincinnati Bengals   Pittsburgh Steelers          48.4          51.7   \n",
      "9       Carolina Panthers  Tampa Bay Buccaneers          48.5          50.2   \n",
      "0          Denver Broncos      Cleveland Browns          48.7          51.3   \n",
      "14         Dallas Cowboys       New York Giants          48.9          50.9   \n",
      "7       Minnesota Vikings     Arizona Cardinals          49.0          51.1   \n",
      "13          Detroit Lions         Chicago Bears          49.1          50.8   \n",
      "15      Green Bay Packers        Miami Dolphins          49.4          49.8   \n",
      "12     Kansas City Chiefs     Las Vegas Raiders          49.4          49.1   \n",
      "3         Atlanta Falcons  Los Angeles Chargers          50.2          49.7   \n",
      "2    New England Patriots    Indianapolis Colts          50.3          50.1   \n",
      "8      New Orleans Saints      Los Angeles Rams          50.7          49.4   \n",
      "16   Los Angeles Chargers      Baltimore Ravens          50.8          49.1   \n",
      "11          Buffalo Bills   San Francisco 49ers          51.1          48.9   \n",
      "1    Jacksonville Jaguars        Houston Texans          52.3          47.6   \n",
      "\n",
      "   Cover?  \n",
      "4     Yes  \n",
      "10     No  \n",
      "5      No  \n",
      "6      No  \n",
      "9      No  \n",
      "0      No  \n",
      "14     No  \n",
      "7      No  \n",
      "13     No  \n",
      "15     No  \n",
      "12     No  \n",
      "3      No  \n",
      "2      No  \n",
      "8      No  \n",
      "16     No  \n",
      "11     No  \n",
      "1      No  \n"
     ]
    }
   ],
   "source": [
    "df_final['Cover?'] = df_final['Home Cover %'].apply(lambda x: 'Yes' if x > 53 else ('Yes' if x < 47 else 'No'))\n",
    "\n",
    "print(df_final[['Home Team', 'Away Team','Home Cover %', 'Away Cover %','Cover?']].sort_values(by=['Home Cover %']))"
   ]
  },
  {
   "cell_type": "code",
   "execution_count": null,
   "id": "b68909e7-cc97-4911-b85c-f8de0093c439",
   "metadata": {},
   "outputs": [],
   "source": []
  }
 ],
 "metadata": {
  "kernelspec": {
   "display_name": "Python 3 (ipykernel)",
   "language": "python",
   "name": "python3"
  },
  "language_info": {
   "codemirror_mode": {
    "name": "ipython",
    "version": 3
   },
   "file_extension": ".py",
   "mimetype": "text/x-python",
   "name": "python",
   "nbconvert_exporter": "python",
   "pygments_lexer": "ipython3",
   "version": "3.9.0"
  }
 },
 "nbformat": 4,
 "nbformat_minor": 5
}
